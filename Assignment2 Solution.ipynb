{
 "cells": [
  {
   "cell_type": "code",
   "execution_count": 1,
   "id": "a30b0f23-ebe6-4850-a204-ab1f59188124",
   "metadata": {},
   "outputs": [
    {
     "name": "stdin",
     "output_type": "stream",
     "text": [
      "enter the number, for example 25 : 25\n"
     ]
    },
    {
     "name": "stdout",
     "output_type": "stream",
     "text": [
      "[1, 3, 5, 7, 9, 11, 13, 15, 17, 19, 21, 23, 25]\n"
     ]
    }
   ],
   "source": [
    "'''[Q1-answer:-]'''\n",
    "#The def keyword is used to create,(or define) a function.\n",
    "\n",
    "def odd_number(n):\n",
    "    '''This fuction is print the odd number in list''' \n",
    "    l=[]\n",
    "    for i in range(1,n+1):\n",
    "        if i%2!=0:\n",
    "            l.append(i)\n",
    "    return l\n",
    "number=int(input(\"enter the number, for example 25 :\"))\n",
    "print(odd_number(number))"
   ]
  },
  {
   "cell_type": "code",
   "execution_count": 2,
   "id": "c6e24c61-f579-4937-87ec-c1ae08557776",
   "metadata": {
    "tags": []
   },
   "outputs": [
    {
     "name": "stdout",
     "output_type": "stream",
     "text": [
      "(1, 2, 3, 4, 5, 6, 7, 8, 9)\n",
      "{'name': 'Shahbaz alam', 'place': 'Bihar', 'study': 'B.tech', 'branch': 'Artificial Itelligence And Data Science', 'session': '2022 to 2026'}\n"
     ]
    }
   ],
   "source": [
    "'''[Q2-answer:-]'''\n",
    "\n",
    "''' *args allows us to pass a variable number of non-keyword arguments to a python function. In the fuction, we should use an\n",
    "astrisk(*) before the parameter name to pass a variable number of arguments and its gives the data in the tuple.'''\n",
    "\n",
    "#example number first\n",
    "def number(*n):\n",
    "    return n\n",
    "print(number(1,2,3,4,5,6,7,8,9))   #expected output:- (1,2,3,4,5,6,7,8,9)\n",
    "\n",
    "\n",
    "#example number second\n",
    "def sum_number(*number):\n",
    "    sum=0                 #write a programe sum of number using fuction with *args\n",
    "    for i in number:\n",
    "        sum+=i\n",
    "    return sum\n",
    "sum_number(1,2,3,4,5,6,7,8,9,10)   #expected output:- 55\n",
    "\n",
    "'''**kwargs allow us to pass a variable number of keyword arguments to a pyhon fucntion. In the function, we can use the\n",
    "double-astrisk(**) before the parameter name to denote this type of argument and its gives the data in dict.'''\n",
    "\n",
    "#example of **kwargs\n",
    "def introduction(**kwargs):\n",
    "    return kwargs\n",
    "print(introduction(name=\"Shahbaz alam\", place=\"Bihar\", study=\"B.tech\", branch=\"Artificial Itelligence And Data Science\", session=\"2022 to 2026\"))"
   ]
  },
  {
   "cell_type": "code",
   "execution_count": 36,
   "id": "c664a740-c46d-42c2-bfd6-de16e9efd862",
   "metadata": {},
   "outputs": [
    {
     "name": "stdout",
     "output_type": "stream",
     "text": [
      "{'name': 'shahbaz alam', 'place': 'bihar', 'study': 'artificial intelligence and data science(b.tech)', 'session': '2022 to 2026'}\n"
     ]
    }
   ],
   "source": [
    "What is an iterator in python? Name the method used to initialise the iterator object and the method\n",
    "used for iteration. Use these methods to print the first five elements of the given list [2, 4, 6, 8, 10, 12, 14,\n",
    "16, 18, 20]."
   ]
  },
  {
   "cell_type": "code",
   "execution_count": 17,
   "id": "4ead3821-92a9-4228-95f7-363cfcd87814",
   "metadata": {},
   "outputs": [
    {
     "name": "stdin",
     "output_type": "stream",
     "text": [
      "enter the number : 5\n"
     ]
    },
    {
     "name": "stdout",
     "output_type": "stream",
     "text": [
      "1\n",
      "2\n",
      "3\n",
      "4\n",
      "5\n"
     ]
    },
    {
     "data": {
      "text/plain": [
       "generator"
      ]
     },
     "execution_count": 17,
     "metadata": {},
     "output_type": "execute_result"
    }
   ],
   "source": [
    "'''[Q4-answer:-]'''\n",
    "\n",
    "'''Generator is a fuction which is responsible to generate a sequence of values. We can write generator fuctions just like \n",
    "ordinary fuctions, but it uses yeild keyword to return values'''\n",
    "\n",
    "#Example \n",
    "def count():\n",
    "    a=1\n",
    "    while True:\n",
    "        yield a\n",
    "        a+=1\n",
    "counting=count()\n",
    "number=int(input(\"enter the number :\"))\n",
    "for i in range(number):\n",
    "    print(next(counting))   #here to print the n number\n",
    "    \n",
    "type(counting) #here to show the type of function "
   ]
  },
  {
   "cell_type": "code",
   "execution_count": 1,
   "id": "aab18f1b-5140-4037-8b78-f528f6b4a709",
   "metadata": {},
   "outputs": [
    {
     "name": "stdin",
     "output_type": "stream",
     "text": [
      "enter the number : 25\n"
     ]
    },
    {
     "name": "stdout",
     "output_type": "stream",
     "text": [
      "2\n",
      "3\n",
      "5\n",
      "7\n",
      "11\n",
      "13\n",
      "17\n",
      "19\n",
      "23\n"
     ]
    }
   ],
   "source": [
    "'''[Q5-answer:-]'''\n",
    "\n",
    "'''ate a generator function for prime numbers less than 1000. Use the next() method to print the\n",
    "first 20 prime numbers.'''\n",
    "\n",
    "n=int(input(\"enter the number :\"))\n",
    "def prime_number(n):\n",
    "    for i in range(2,n+1):\n",
    "        for j in range(2,i):\n",
    "            if i%j==0:\n",
    "                break\n",
    "        else:\n",
    "            yield i\n",
    "for i in prime_number(n):\n",
    "    print(list(i),end=)"
   ]
  },
  {
   "cell_type": "code",
   "execution_count": 2,
   "id": "9414943c-6a30-4eb5-9693-5e8fb68a4720",
   "metadata": {},
   "outputs": [
    {
     "name": "stdin",
     "output_type": "stream",
     "text": [
      "enter the number, for example 10 : 5\n"
     ]
    },
    {
     "name": "stdout",
     "output_type": "stream",
     "text": [
      "0\n",
      "1\n",
      "1\n",
      "2\n",
      "3\n"
     ]
    }
   ],
   "source": [
    "'''[Q6-answer:-]'''\n",
    "\n",
    "#print the fibonaaci number using a while loop till first 10 number\n",
    "n=int(input(\"enter the number, for example 10 :\"))\n",
    "a,b=0,1\n",
    "i=1\n",
    "while i<=n:\n",
    "    print(a)\n",
    "    c=a+b\n",
    "    a=b\n",
    "    b=c\n",
    "    i+=1"
   ]
  },
  {
   "cell_type": "code",
   "execution_count": 26,
   "id": "1f561205-8f85-4654-be0d-8d337b038497",
   "metadata": {},
   "outputs": [
    {
     "name": "stdin",
     "output_type": "stream",
     "text": [
      "enter any string, for example pwskills : shahbaz\n"
     ]
    },
    {
     "name": "stdout",
     "output_type": "stream",
     "text": [
      "['s', 'h', 'a', 'h', 'b', 'a', 'z']\n"
     ]
    }
   ],
   "source": [
    "'''[Q7-answer:-]'''\n",
    "\n",
    "#Write a List Comprehension to iterate through the given string: ‘pwskills’.\n",
    "string=input(\"enter any string, for example pwskills :\")\n",
    "a=[i for i in string]\n",
    "print(a)        #expected output:- ['p', 'w', 's', 'k', 'i', 'l', 'l', 's']"
   ]
  },
  {
   "cell_type": "code",
   "execution_count": 29,
   "id": "192992e1-3fc8-4306-8bf8-d4b792290502",
   "metadata": {},
   "outputs": [
    {
     "name": "stdin",
     "output_type": "stream",
     "text": [
      "enter the any number 8558\n"
     ]
    },
    {
     "name": "stdout",
     "output_type": "stream",
     "text": [
      "original number =  8558 reverse number =  8558\n",
      "this number is palindrome\n"
     ]
    }
   ],
   "source": [
    "'''[Q8-answer:-]'''\n",
    "\n",
    "#To print the given number is palindrome or not\n",
    "n = int(input(\"enter the any number\"))\n",
    "n1=n\n",
    "reverse=0\n",
    "while n>0:\n",
    "    digit=n%10\n",
    "    reverse=reverse*10+digit\n",
    "    n//=10\n",
    "print(\"original number = \",n1,\"reverse number = \",reverse) #here to show the original number and reverse number\n",
    "if n1==reverse:\n",
    "    print(\"this number is palindrome\")\n",
    "else:\n",
    "    print(\"this number is not palindrome\")"
   ]
  },
  {
   "cell_type": "code",
   "execution_count": 3,
   "id": "6c61915d-12e0-4d9b-8610-1e54ca79db2b",
   "metadata": {},
   "outputs": [
    {
     "name": "stdin",
     "output_type": "stream",
     "text": [
      "enter the number, for example 100 :  10\n"
     ]
    },
    {
     "name": "stdout",
     "output_type": "stream",
     "text": [
      "[1, 2, 3, 4, 5, 6, 7, 8, 9, 10]\n",
      "[1, 3, 5, 7, 9]\n"
     ]
    }
   ],
   "source": [
    "'''[Q9-answer:-]'''\n",
    "#print the odd number 1 to 100 using list comprehension \n",
    "n=int(input(\"enter the number, for example 100 : \"))\n",
    "l=[]\n",
    "for i in range(1,n+1):\n",
    "    l.append(i)\n",
    "print(l) #here print to list from 1 to 100 number\n",
    "odd_number = [i for i in l if i%2!=0]\n",
    "print(odd_number) #here print the list of odd number"
   ]
  },
  {
   "cell_type": "code",
   "execution_count": null,
   "id": "4e804004-476a-49a5-a630-9fbfaf8692e6",
   "metadata": {},
   "outputs": [],
   "source": []
  }
 ],
 "metadata": {
  "kernelspec": {
   "display_name": "Python 3 (ipykernel)",
   "language": "python",
   "name": "python3"
  },
  "language_info": {
   "codemirror_mode": {
    "name": "ipython",
    "version": 3
   },
   "file_extension": ".py",
   "mimetype": "text/x-python",
   "name": "python",
   "nbconvert_exporter": "python",
   "pygments_lexer": "ipython3",
   "version": "3.10.8"
  }
 },
 "nbformat": 4,
 "nbformat_minor": 5
}
